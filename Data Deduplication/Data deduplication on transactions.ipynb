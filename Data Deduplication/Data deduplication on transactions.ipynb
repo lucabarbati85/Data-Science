{
 "cells": [
  {
   "cell_type": "markdown",
   "metadata": {},
   "source": [
    "# Data Deduplication on transactions from Big Dive 7"
   ]
  },
  {
   "cell_type": "code",
   "execution_count": 1,
   "metadata": {},
   "outputs": [],
   "source": [
    "import pandas as pd\n",
    "import recordlinkage as rl"
   ]
  },
  {
   "cell_type": "markdown",
   "metadata": {},
   "source": [
    "## loading dataframe from csv"
   ]
  },
  {
   "cell_type": "code",
   "execution_count": 2,
   "metadata": {},
   "outputs": [
    {
     "data": {
      "text/html": [
       "<div>\n",
       "<style scoped>\n",
       "    .dataframe tbody tr th:only-of-type {\n",
       "        vertical-align: middle;\n",
       "    }\n",
       "\n",
       "    .dataframe tbody tr th {\n",
       "        vertical-align: top;\n",
       "    }\n",
       "\n",
       "    .dataframe thead th {\n",
       "        text-align: right;\n",
       "    }\n",
       "</style>\n",
       "<table border=\"1\" class=\"dataframe\">\n",
       "  <thead>\n",
       "    <tr style=\"text-align: right;\">\n",
       "      <th></th>\n",
       "      <th>date</th>\n",
       "      <th>description</th>\n",
       "      <th>amount</th>\n",
       "      <th>currency</th>\n",
       "      <th>account_id</th>\n",
       "      <th>account_type</th>\n",
       "      <th>user_id</th>\n",
       "      <th>provider</th>\n",
       "    </tr>\n",
       "  </thead>\n",
       "  <tbody>\n",
       "    <tr>\n",
       "      <th>0</th>\n",
       "      <td>01/01/2017</td>\n",
       "      <td>GENIUS SUPER GENIUS 2.0 COSTO FISSO MESE DI DI...</td>\n",
       "      <td>7.35</td>\n",
       "      <td>EUR</td>\n",
       "      <td>3752062391</td>\n",
       "      <td>account</td>\n",
       "      <td>1272326183</td>\n",
       "      <td>bank-01</td>\n",
       "    </tr>\n",
       "    <tr>\n",
       "      <th>1</th>\n",
       "      <td>01/01/2017</td>\n",
       "      <td>GENIUS ONE EDIZIONE 3 COSTO FISSO MESE DI DICE...</td>\n",
       "      <td>1.40</td>\n",
       "      <td>EUR</td>\n",
       "      <td>2698932672</td>\n",
       "      <td>account</td>\n",
       "      <td>4248636026</td>\n",
       "      <td>bank-01</td>\n",
       "    </tr>\n",
       "    <tr>\n",
       "      <th>2</th>\n",
       "      <td>2017-01-01</td>\n",
       "      <td>PAYPAL *UBER BV 35314369001 GBR</td>\n",
       "      <td>28.26</td>\n",
       "      <td>EUR</td>\n",
       "      <td>898876702</td>\n",
       "      <td>card</td>\n",
       "      <td>163469645</td>\n",
       "      <td>bank-03</td>\n",
       "    </tr>\n",
       "    <tr>\n",
       "      <th>3</th>\n",
       "      <td>01/01/2017</td>\n",
       "      <td>H3G RICARICA AUTOMATICA TREZZANO SUL</td>\n",
       "      <td>10.00</td>\n",
       "      <td>EUR</td>\n",
       "      <td>1617404857</td>\n",
       "      <td>credit_card</td>\n",
       "      <td>1244820035</td>\n",
       "      <td>bank-16</td>\n",
       "    </tr>\n",
       "    <tr>\n",
       "      <th>4</th>\n",
       "      <td>01/01/2017</td>\n",
       "      <td>GENIUS SUPER GENIUS 2.0 COSTO FISSO MESE DI DI...</td>\n",
       "      <td>7.35</td>\n",
       "      <td>EUR</td>\n",
       "      <td>1839361966</td>\n",
       "      <td>account</td>\n",
       "      <td>3843080328</td>\n",
       "      <td>bank-01</td>\n",
       "    </tr>\n",
       "  </tbody>\n",
       "</table>\n",
       "</div>"
      ],
      "text/plain": [
       "         date                                        description  amount  \\\n",
       "0  01/01/2017  GENIUS SUPER GENIUS 2.0 COSTO FISSO MESE DI DI...    7.35   \n",
       "1  01/01/2017  GENIUS ONE EDIZIONE 3 COSTO FISSO MESE DI DICE...    1.40   \n",
       "2  2017-01-01                    PAYPAL *UBER BV 35314369001 GBR   28.26   \n",
       "3  01/01/2017               H3G RICARICA AUTOMATICA TREZZANO SUL   10.00   \n",
       "4  01/01/2017  GENIUS SUPER GENIUS 2.0 COSTO FISSO MESE DI DI...    7.35   \n",
       "\n",
       "  currency  account_id account_type     user_id provider  \n",
       "0      EUR  3752062391      account  1272326183  bank-01  \n",
       "1      EUR  2698932672      account  4248636026  bank-01  \n",
       "2      EUR   898876702         card   163469645  bank-03  \n",
       "3      EUR  1617404857  credit_card  1244820035  bank-16  \n",
       "4      EUR  1839361966      account  3843080328  bank-01  "
      ]
     },
     "execution_count": 2,
     "metadata": {},
     "output_type": "execute_result"
    }
   ],
   "source": [
    "transactions = pd.read_csv('transactions.csv')\n",
    "transactions.head()"
   ]
  },
  {
   "cell_type": "code",
   "execution_count": 3,
   "metadata": {},
   "outputs": [
    {
     "data": {
      "text/plain": [
       "date             object\n",
       "description      object\n",
       "amount          float64\n",
       "currency         object\n",
       "account_id        int64\n",
       "account_type     object\n",
       "user_id           int64\n",
       "provider         object\n",
       "dtype: object"
      ]
     },
     "execution_count": 3,
     "metadata": {},
     "output_type": "execute_result"
    }
   ],
   "source": [
    "transactions.dtypes"
   ]
  },
  {
   "cell_type": "code",
   "execution_count": 4,
   "metadata": {},
   "outputs": [
    {
     "data": {
      "text/html": [
       "<div>\n",
       "<style scoped>\n",
       "    .dataframe tbody tr th:only-of-type {\n",
       "        vertical-align: middle;\n",
       "    }\n",
       "\n",
       "    .dataframe tbody tr th {\n",
       "        vertical-align: top;\n",
       "    }\n",
       "\n",
       "    .dataframe thead th {\n",
       "        text-align: right;\n",
       "    }\n",
       "</style>\n",
       "<table border=\"1\" class=\"dataframe\">\n",
       "  <thead>\n",
       "    <tr style=\"text-align: right;\">\n",
       "      <th></th>\n",
       "      <th>amount</th>\n",
       "      <th>account_id</th>\n",
       "      <th>user_id</th>\n",
       "    </tr>\n",
       "  </thead>\n",
       "  <tbody>\n",
       "    <tr>\n",
       "      <th>count</th>\n",
       "      <td>2.554885e+06</td>\n",
       "      <td>2.554885e+06</td>\n",
       "      <td>2.554885e+06</td>\n",
       "    </tr>\n",
       "    <tr>\n",
       "      <th>mean</th>\n",
       "      <td>6.843908e+01</td>\n",
       "      <td>2.108939e+09</td>\n",
       "      <td>2.157017e+09</td>\n",
       "    </tr>\n",
       "    <tr>\n",
       "      <th>std</th>\n",
       "      <td>8.642829e+02</td>\n",
       "      <td>1.232327e+09</td>\n",
       "      <td>1.236343e+09</td>\n",
       "    </tr>\n",
       "    <tr>\n",
       "      <th>min</th>\n",
       "      <td>1.000000e-02</td>\n",
       "      <td>1.827720e+05</td>\n",
       "      <td>6.391700e+04</td>\n",
       "    </tr>\n",
       "    <tr>\n",
       "      <th>25%</th>\n",
       "      <td>5.450000e+00</td>\n",
       "      <td>1.050150e+09</td>\n",
       "      <td>1.098814e+09</td>\n",
       "    </tr>\n",
       "    <tr>\n",
       "      <th>50%</th>\n",
       "      <td>1.399000e+01</td>\n",
       "      <td>2.095528e+09</td>\n",
       "      <td>2.159213e+09</td>\n",
       "    </tr>\n",
       "    <tr>\n",
       "      <th>75%</th>\n",
       "      <td>3.900000e+01</td>\n",
       "      <td>3.172311e+09</td>\n",
       "      <td>3.228949e+09</td>\n",
       "    </tr>\n",
       "    <tr>\n",
       "      <th>max</th>\n",
       "      <td>3.952804e+05</td>\n",
       "      <td>4.294890e+09</td>\n",
       "      <td>4.294663e+09</td>\n",
       "    </tr>\n",
       "  </tbody>\n",
       "</table>\n",
       "</div>"
      ],
      "text/plain": [
       "             amount    account_id       user_id\n",
       "count  2.554885e+06  2.554885e+06  2.554885e+06\n",
       "mean   6.843908e+01  2.108939e+09  2.157017e+09\n",
       "std    8.642829e+02  1.232327e+09  1.236343e+09\n",
       "min    1.000000e-02  1.827720e+05  6.391700e+04\n",
       "25%    5.450000e+00  1.050150e+09  1.098814e+09\n",
       "50%    1.399000e+01  2.095528e+09  2.159213e+09\n",
       "75%    3.900000e+01  3.172311e+09  3.228949e+09\n",
       "max    3.952804e+05  4.294890e+09  4.294663e+09"
      ]
     },
     "execution_count": 4,
     "metadata": {},
     "output_type": "execute_result"
    }
   ],
   "source": [
    "transactions.describe()"
   ]
  },
  {
   "cell_type": "code",
   "execution_count": 5,
   "metadata": {},
   "outputs": [
    {
     "data": {
      "text/html": [
       "<div>\n",
       "<style scoped>\n",
       "    .dataframe tbody tr th:only-of-type {\n",
       "        vertical-align: middle;\n",
       "    }\n",
       "\n",
       "    .dataframe tbody tr th {\n",
       "        vertical-align: top;\n",
       "    }\n",
       "\n",
       "    .dataframe thead th {\n",
       "        text-align: right;\n",
       "    }\n",
       "</style>\n",
       "<table border=\"1\" class=\"dataframe\">\n",
       "  <thead>\n",
       "    <tr style=\"text-align: right;\">\n",
       "      <th></th>\n",
       "      <th>date</th>\n",
       "      <th>description</th>\n",
       "      <th>amount</th>\n",
       "      <th>currency</th>\n",
       "      <th>account_id</th>\n",
       "      <th>account_type</th>\n",
       "      <th>user_id</th>\n",
       "      <th>provider</th>\n",
       "    </tr>\n",
       "  </thead>\n",
       "  <tbody>\n",
       "    <tr>\n",
       "      <th>0</th>\n",
       "      <td>01/01/2017</td>\n",
       "      <td>GENIUS SUPER GENIUS 2.0 COSTO FISSO MESE DI DI...</td>\n",
       "      <td>7.35</td>\n",
       "      <td>EUR</td>\n",
       "      <td>3752062391</td>\n",
       "      <td>account</td>\n",
       "      <td>1272326183</td>\n",
       "      <td>bank-01</td>\n",
       "    </tr>\n",
       "    <tr>\n",
       "      <th>1</th>\n",
       "      <td>01/01/2017</td>\n",
       "      <td>GENIUS ONE EDIZIONE 3 COSTO FISSO MESE DI DICE...</td>\n",
       "      <td>1.40</td>\n",
       "      <td>EUR</td>\n",
       "      <td>2698932672</td>\n",
       "      <td>account</td>\n",
       "      <td>4248636026</td>\n",
       "      <td>bank-01</td>\n",
       "    </tr>\n",
       "    <tr>\n",
       "      <th>2</th>\n",
       "      <td>2017-01-01</td>\n",
       "      <td>PAYPAL *UBER BV 35314369001 GBR</td>\n",
       "      <td>28.26</td>\n",
       "      <td>EUR</td>\n",
       "      <td>898876702</td>\n",
       "      <td>card</td>\n",
       "      <td>163469645</td>\n",
       "      <td>bank-03</td>\n",
       "    </tr>\n",
       "    <tr>\n",
       "      <th>3</th>\n",
       "      <td>01/01/2017</td>\n",
       "      <td>H3G RICARICA AUTOMATICA TREZZANO SUL</td>\n",
       "      <td>10.00</td>\n",
       "      <td>EUR</td>\n",
       "      <td>1617404857</td>\n",
       "      <td>credit_card</td>\n",
       "      <td>1244820035</td>\n",
       "      <td>bank-16</td>\n",
       "    </tr>\n",
       "    <tr>\n",
       "      <th>4</th>\n",
       "      <td>01/01/2017</td>\n",
       "      <td>GENIUS SUPER GENIUS 2.0 COSTO FISSO MESE DI DI...</td>\n",
       "      <td>7.35</td>\n",
       "      <td>EUR</td>\n",
       "      <td>1839361966</td>\n",
       "      <td>account</td>\n",
       "      <td>3843080328</td>\n",
       "      <td>bank-01</td>\n",
       "    </tr>\n",
       "  </tbody>\n",
       "</table>\n",
       "</div>"
      ],
      "text/plain": [
       "         date                                        description  amount  \\\n",
       "0  01/01/2017  GENIUS SUPER GENIUS 2.0 COSTO FISSO MESE DI DI...    7.35   \n",
       "1  01/01/2017  GENIUS ONE EDIZIONE 3 COSTO FISSO MESE DI DICE...    1.40   \n",
       "2  2017-01-01                    PAYPAL *UBER BV 35314369001 GBR   28.26   \n",
       "3  01/01/2017               H3G RICARICA AUTOMATICA TREZZANO SUL   10.00   \n",
       "4  01/01/2017  GENIUS SUPER GENIUS 2.0 COSTO FISSO MESE DI DI...    7.35   \n",
       "\n",
       "  currency  account_id account_type     user_id provider  \n",
       "0      EUR  3752062391      account  1272326183  bank-01  \n",
       "1      EUR  2698932672      account  4248636026  bank-01  \n",
       "2      EUR   898876702         card   163469645  bank-03  \n",
       "3      EUR  1617404857  credit_card  1244820035  bank-16  \n",
       "4      EUR  1839361966      account  3843080328  bank-01  "
      ]
     },
     "execution_count": 5,
     "metadata": {},
     "output_type": "execute_result"
    }
   ],
   "source": [
    "transactions.head()"
   ]
  },
  {
   "cell_type": "code",
   "execution_count": 6,
   "metadata": {},
   "outputs": [
    {
     "data": {
      "text/plain": [
       "array(['EUR', 'GBP'], dtype=object)"
      ]
     },
     "execution_count": 6,
     "metadata": {},
     "output_type": "execute_result"
    }
   ],
   "source": [
    "transactions.currency.unique()"
   ]
  },
  {
   "cell_type": "code",
   "execution_count": 7,
   "metadata": {},
   "outputs": [
    {
     "data": {
      "text/plain": [
       "array(['account', 'card', 'credit_card', 'checking', 'debit_card',\n",
       "       'savings', 'investment', 'credit', 'loan', 'bonus', 'mortgage',\n",
       "       'insurance'], dtype=object)"
      ]
     },
     "execution_count": 7,
     "metadata": {},
     "output_type": "execute_result"
    }
   ],
   "source": [
    "transactions.account_type.unique()"
   ]
  },
  {
   "cell_type": "code",
   "execution_count": 8,
   "metadata": {},
   "outputs": [
    {
     "data": {
      "text/plain": [
       "array(['bank-01', 'bank-03', 'bank-16', 'bank-15', 'bank-08', 'bank-14',\n",
       "       'bank-17', 'bank-13', 'bank-04', 'bank-06', 'bank-07', 'bank-11',\n",
       "       'bank-12', 'bank-10', 'bank-09', 'bank-02', 'bank-05', 'bank-18',\n",
       "       'bank-20', 'bank-19', 'bank-25', 'bank-22', 'bank-23', 'bank-24',\n",
       "       'bank-21', 'bank-26', 'bank-27', 'bank-31', 'bank-28', 'bank-29',\n",
       "       'bank-30', 'bank-33', 'bank-32', 'bank-34', 'bank-35', 'bank-36',\n",
       "       'bank-37', 'bank-38', 'bank-39', 'bank-40', 'bank-42', 'bank-44',\n",
       "       'bank-43', 'bank-41', 'bank-45', 'bank-46', 'bank-47', 'bank-48',\n",
       "       'bank-49', 'bank-50', 'bank-51', 'bank-52', 'bank-53', 'bank-54',\n",
       "       'bank-55', 'bank-56', 'bank-57', 'bank-58', 'bank-59', 'bank-60',\n",
       "       'bank-62', 'bank-61', 'bank-63', 'bank-64', 'bank-65', 'bank-66',\n",
       "       'bank-68', 'bank-67', 'bank-70', 'bank-69', 'bank-71', 'bank-72',\n",
       "       'bank-73', 'bank-74', 'bank-75', 'bank-76', 'bank-77', 'bank-78',\n",
       "       'bank-79', 'bank-80', 'bank-81', 'bank-82', 'bank-83', 'bank-84',\n",
       "       'bank-85', 'bank-86', 'bank-87', 'bank-88', 'bank-89', 'bank-91',\n",
       "       'bank-90', 'bank-92', 'bank-93', 'bank-94', 'bank-95'],\n",
       "      dtype=object)"
      ]
     },
     "execution_count": 8,
     "metadata": {},
     "output_type": "execute_result"
    }
   ],
   "source": [
    "transactions.provider.unique()"
   ]
  },
  {
   "cell_type": "code",
   "execution_count": 9,
   "metadata": {},
   "outputs": [],
   "source": [
    "transactions['date'] = pd.to_datetime(transactions['date'], dayfirst=True, cache=True)"
   ]
  },
  {
   "cell_type": "code",
   "execution_count": 10,
   "metadata": {},
   "outputs": [
    {
     "data": {
      "text/html": [
       "<div>\n",
       "<style scoped>\n",
       "    .dataframe tbody tr th:only-of-type {\n",
       "        vertical-align: middle;\n",
       "    }\n",
       "\n",
       "    .dataframe tbody tr th {\n",
       "        vertical-align: top;\n",
       "    }\n",
       "\n",
       "    .dataframe thead th {\n",
       "        text-align: right;\n",
       "    }\n",
       "</style>\n",
       "<table border=\"1\" class=\"dataframe\">\n",
       "  <thead>\n",
       "    <tr style=\"text-align: right;\">\n",
       "      <th></th>\n",
       "      <th>date</th>\n",
       "      <th>description</th>\n",
       "      <th>amount</th>\n",
       "      <th>currency</th>\n",
       "      <th>account_id</th>\n",
       "      <th>account_type</th>\n",
       "      <th>user_id</th>\n",
       "      <th>provider</th>\n",
       "    </tr>\n",
       "  </thead>\n",
       "  <tbody>\n",
       "    <tr>\n",
       "      <th>0</th>\n",
       "      <td>2017-01-01</td>\n",
       "      <td>GENIUS SUPER GENIUS 2.0 COSTO FISSO MESE DI DI...</td>\n",
       "      <td>7.35</td>\n",
       "      <td>EUR</td>\n",
       "      <td>3752062391</td>\n",
       "      <td>account</td>\n",
       "      <td>1272326183</td>\n",
       "      <td>bank-01</td>\n",
       "    </tr>\n",
       "    <tr>\n",
       "      <th>1</th>\n",
       "      <td>2017-01-01</td>\n",
       "      <td>GENIUS ONE EDIZIONE 3 COSTO FISSO MESE DI DICE...</td>\n",
       "      <td>1.40</td>\n",
       "      <td>EUR</td>\n",
       "      <td>2698932672</td>\n",
       "      <td>account</td>\n",
       "      <td>4248636026</td>\n",
       "      <td>bank-01</td>\n",
       "    </tr>\n",
       "    <tr>\n",
       "      <th>2</th>\n",
       "      <td>2017-01-01</td>\n",
       "      <td>PAYPAL *UBER BV 35314369001 GBR</td>\n",
       "      <td>28.26</td>\n",
       "      <td>EUR</td>\n",
       "      <td>898876702</td>\n",
       "      <td>card</td>\n",
       "      <td>163469645</td>\n",
       "      <td>bank-03</td>\n",
       "    </tr>\n",
       "    <tr>\n",
       "      <th>3</th>\n",
       "      <td>2017-01-01</td>\n",
       "      <td>H3G RICARICA AUTOMATICA TREZZANO SUL</td>\n",
       "      <td>10.00</td>\n",
       "      <td>EUR</td>\n",
       "      <td>1617404857</td>\n",
       "      <td>credit_card</td>\n",
       "      <td>1244820035</td>\n",
       "      <td>bank-16</td>\n",
       "    </tr>\n",
       "    <tr>\n",
       "      <th>4</th>\n",
       "      <td>2017-01-01</td>\n",
       "      <td>GENIUS SUPER GENIUS 2.0 COSTO FISSO MESE DI DI...</td>\n",
       "      <td>7.35</td>\n",
       "      <td>EUR</td>\n",
       "      <td>1839361966</td>\n",
       "      <td>account</td>\n",
       "      <td>3843080328</td>\n",
       "      <td>bank-01</td>\n",
       "    </tr>\n",
       "  </tbody>\n",
       "</table>\n",
       "</div>"
      ],
      "text/plain": [
       "        date                                        description  amount  \\\n",
       "0 2017-01-01  GENIUS SUPER GENIUS 2.0 COSTO FISSO MESE DI DI...    7.35   \n",
       "1 2017-01-01  GENIUS ONE EDIZIONE 3 COSTO FISSO MESE DI DICE...    1.40   \n",
       "2 2017-01-01                    PAYPAL *UBER BV 35314369001 GBR   28.26   \n",
       "3 2017-01-01               H3G RICARICA AUTOMATICA TREZZANO SUL   10.00   \n",
       "4 2017-01-01  GENIUS SUPER GENIUS 2.0 COSTO FISSO MESE DI DI...    7.35   \n",
       "\n",
       "  currency  account_id account_type     user_id provider  \n",
       "0      EUR  3752062391      account  1272326183  bank-01  \n",
       "1      EUR  2698932672      account  4248636026  bank-01  \n",
       "2      EUR   898876702         card   163469645  bank-03  \n",
       "3      EUR  1617404857  credit_card  1244820035  bank-16  \n",
       "4      EUR  1839361966      account  3843080328  bank-01  "
      ]
     },
     "execution_count": 10,
     "metadata": {},
     "output_type": "execute_result"
    }
   ],
   "source": [
    "transactions.head()"
   ]
  },
  {
   "cell_type": "code",
   "execution_count": 11,
   "metadata": {},
   "outputs": [
    {
     "data": {
      "text/plain": [
       "53617"
      ]
     },
     "execution_count": 11,
     "metadata": {},
     "output_type": "execute_result"
    }
   ],
   "source": [
    "len(transactions.groupby('amount').count())"
   ]
  },
  {
   "cell_type": "code",
   "execution_count": 12,
   "metadata": {},
   "outputs": [
    {
     "data": {
      "text/plain": [
       "27353"
      ]
     },
     "execution_count": 12,
     "metadata": {},
     "output_type": "execute_result"
    }
   ],
   "source": [
    "len(transactions.groupby('account_id').count())"
   ]
  },
  {
   "cell_type": "code",
   "execution_count": 13,
   "metadata": {},
   "outputs": [
    {
     "data": {
      "text/plain": [
       "13236"
      ]
     },
     "execution_count": 13,
     "metadata": {},
     "output_type": "execute_result"
    }
   ],
   "source": [
    "len(transactions.groupby('user_id').count())"
   ]
  },
  {
   "cell_type": "markdown",
   "metadata": {},
   "source": [
    "## indexing"
   ]
  },
  {
   "cell_type": "code",
   "execution_count": 14,
   "metadata": {},
   "outputs": [],
   "source": [
    "# Returns all record pairs that agree on the given variables.\n",
    "# This method is known as blocking. Blocking is an effective way \n",
    "# to make a subset of the record space (A * B).\n",
    "indexer = rl.BlockIndex(on=['amount', 'account_id', 'date'])"
   ]
  },
  {
   "cell_type": "code",
   "execution_count": 15,
   "metadata": {},
   "outputs": [],
   "source": [
    "pairs = indexer.index(transactions)"
   ]
  },
  {
   "cell_type": "code",
   "execution_count": 16,
   "metadata": {},
   "outputs": [
    {
     "data": {
      "text/plain": [
       "297754"
      ]
     },
     "execution_count": 16,
     "metadata": {},
     "output_type": "execute_result"
    }
   ],
   "source": [
    "len(pairs)"
   ]
  },
  {
   "cell_type": "markdown",
   "metadata": {},
   "source": [
    "## comparing"
   ]
  },
  {
   "cell_type": "code",
   "execution_count": 17,
   "metadata": {},
   "outputs": [],
   "source": [
    "cmp = rl.Compare()\n",
    "cmp.exact('currency', 'currency', label='currency')\n",
    "cmp.string('description', 'description', label='description')\n",
    "features = cmp.compute(pairs, transactions)"
   ]
  },
  {
   "cell_type": "code",
   "execution_count": 18,
   "metadata": {},
   "outputs": [
    {
     "data": {
      "text/html": [
       "<div>\n",
       "<style scoped>\n",
       "    .dataframe tbody tr th:only-of-type {\n",
       "        vertical-align: middle;\n",
       "    }\n",
       "\n",
       "    .dataframe tbody tr th {\n",
       "        vertical-align: top;\n",
       "    }\n",
       "\n",
       "    .dataframe thead th {\n",
       "        text-align: right;\n",
       "    }\n",
       "</style>\n",
       "<table border=\"1\" class=\"dataframe\">\n",
       "  <thead>\n",
       "    <tr style=\"text-align: right;\">\n",
       "      <th></th>\n",
       "      <th></th>\n",
       "      <th>currency</th>\n",
       "      <th>description</th>\n",
       "    </tr>\n",
       "  </thead>\n",
       "  <tbody>\n",
       "    <tr>\n",
       "      <th rowspan=\"3\" valign=\"top\">5</th>\n",
       "      <th>76</th>\n",
       "      <td>1</td>\n",
       "      <td>1.0</td>\n",
       "    </tr>\n",
       "    <tr>\n",
       "      <th>77</th>\n",
       "      <td>1</td>\n",
       "      <td>1.0</td>\n",
       "    </tr>\n",
       "    <tr>\n",
       "      <th>81</th>\n",
       "      <td>1</td>\n",
       "      <td>1.0</td>\n",
       "    </tr>\n",
       "    <tr>\n",
       "      <th rowspan=\"2\" valign=\"top\">76</th>\n",
       "      <th>77</th>\n",
       "      <td>1</td>\n",
       "      <td>1.0</td>\n",
       "    </tr>\n",
       "    <tr>\n",
       "      <th>81</th>\n",
       "      <td>1</td>\n",
       "      <td>1.0</td>\n",
       "    </tr>\n",
       "  </tbody>\n",
       "</table>\n",
       "</div>"
      ],
      "text/plain": [
       "       currency  description\n",
       "5  76         1          1.0\n",
       "   77         1          1.0\n",
       "   81         1          1.0\n",
       "76 77         1          1.0\n",
       "   81         1          1.0"
      ]
     },
     "execution_count": 18,
     "metadata": {},
     "output_type": "execute_result"
    }
   ],
   "source": [
    "features.head()"
   ]
  },
  {
   "cell_type": "markdown",
   "metadata": {},
   "source": [
    "## matching"
   ]
  },
  {
   "cell_type": "code",
   "execution_count": 19,
   "metadata": {},
   "outputs": [],
   "source": [
    "matches = features[features.sum(axis=1) > 1.9]"
   ]
  },
  {
   "cell_type": "code",
   "execution_count": 20,
   "metadata": {},
   "outputs": [
    {
     "data": {
      "text/html": [
       "<div>\n",
       "<style scoped>\n",
       "    .dataframe tbody tr th:only-of-type {\n",
       "        vertical-align: middle;\n",
       "    }\n",
       "\n",
       "    .dataframe tbody tr th {\n",
       "        vertical-align: top;\n",
       "    }\n",
       "\n",
       "    .dataframe thead th {\n",
       "        text-align: right;\n",
       "    }\n",
       "</style>\n",
       "<table border=\"1\" class=\"dataframe\">\n",
       "  <thead>\n",
       "    <tr style=\"text-align: right;\">\n",
       "      <th></th>\n",
       "      <th></th>\n",
       "      <th>currency</th>\n",
       "      <th>description</th>\n",
       "    </tr>\n",
       "  </thead>\n",
       "  <tbody>\n",
       "    <tr>\n",
       "      <th rowspan=\"3\" valign=\"top\">5</th>\n",
       "      <th>76</th>\n",
       "      <td>1</td>\n",
       "      <td>1.0</td>\n",
       "    </tr>\n",
       "    <tr>\n",
       "      <th>77</th>\n",
       "      <td>1</td>\n",
       "      <td>1.0</td>\n",
       "    </tr>\n",
       "    <tr>\n",
       "      <th>81</th>\n",
       "      <td>1</td>\n",
       "      <td>1.0</td>\n",
       "    </tr>\n",
       "    <tr>\n",
       "      <th rowspan=\"2\" valign=\"top\">76</th>\n",
       "      <th>77</th>\n",
       "      <td>1</td>\n",
       "      <td>1.0</td>\n",
       "    </tr>\n",
       "    <tr>\n",
       "      <th>81</th>\n",
       "      <td>1</td>\n",
       "      <td>1.0</td>\n",
       "    </tr>\n",
       "  </tbody>\n",
       "</table>\n",
       "</div>"
      ],
      "text/plain": [
       "       currency  description\n",
       "5  76         1          1.0\n",
       "   77         1          1.0\n",
       "   81         1          1.0\n",
       "76 77         1          1.0\n",
       "   81         1          1.0"
      ]
     },
     "execution_count": 20,
     "metadata": {},
     "output_type": "execute_result"
    }
   ],
   "source": [
    "matches.head()"
   ]
  },
  {
   "cell_type": "markdown",
   "metadata": {},
   "source": [
    "## verifying results"
   ]
  },
  {
   "cell_type": "code",
   "execution_count": 21,
   "metadata": {},
   "outputs": [
    {
     "data": {
      "text/html": [
       "<div>\n",
       "<style scoped>\n",
       "    .dataframe tbody tr th:only-of-type {\n",
       "        vertical-align: middle;\n",
       "    }\n",
       "\n",
       "    .dataframe tbody tr th {\n",
       "        vertical-align: top;\n",
       "    }\n",
       "\n",
       "    .dataframe thead th {\n",
       "        text-align: right;\n",
       "    }\n",
       "</style>\n",
       "<table border=\"1\" class=\"dataframe\">\n",
       "  <thead>\n",
       "    <tr style=\"text-align: right;\">\n",
       "      <th></th>\n",
       "      <th>date</th>\n",
       "      <th>description</th>\n",
       "      <th>amount</th>\n",
       "      <th>currency</th>\n",
       "      <th>account_id</th>\n",
       "      <th>account_type</th>\n",
       "      <th>user_id</th>\n",
       "      <th>provider</th>\n",
       "    </tr>\n",
       "  </thead>\n",
       "  <tbody>\n",
       "    <tr>\n",
       "      <th>2553873</th>\n",
       "      <td>2017-12-31</td>\n",
       "      <td>IZ O.A.TAXI &amp; MIETWAGEN KONIGS WUSTER</td>\n",
       "      <td>56.5</td>\n",
       "      <td>EUR</td>\n",
       "      <td>1516715854</td>\n",
       "      <td>credit_card</td>\n",
       "      <td>2005235773</td>\n",
       "      <td>bank-16</td>\n",
       "    </tr>\n",
       "    <tr>\n",
       "      <th>2553874</th>\n",
       "      <td>2017-12-31</td>\n",
       "      <td>IZ *O.A.TAXI &amp; MIETWAGEN KONIGS WUSTER</td>\n",
       "      <td>56.5</td>\n",
       "      <td>EUR</td>\n",
       "      <td>1516715854</td>\n",
       "      <td>credit_card</td>\n",
       "      <td>2005235773</td>\n",
       "      <td>bank-16</td>\n",
       "    </tr>\n",
       "  </tbody>\n",
       "</table>\n",
       "</div>"
      ],
      "text/plain": [
       "              date                             description  amount currency  \\\n",
       "2553873 2017-12-31   IZ O.A.TAXI & MIETWAGEN KONIGS WUSTER    56.5      EUR   \n",
       "2553874 2017-12-31  IZ *O.A.TAXI & MIETWAGEN KONIGS WUSTER    56.5      EUR   \n",
       "\n",
       "         account_id account_type     user_id provider  \n",
       "2553873  1516715854  credit_card  2005235773  bank-16  \n",
       "2553874  1516715854  credit_card  2005235773  bank-16  "
      ]
     },
     "execution_count": 21,
     "metadata": {},
     "output_type": "execute_result"
    }
   ],
   "source": [
    "transactions.loc[[2553873, 2553874]]"
   ]
  },
  {
   "cell_type": "code",
   "execution_count": 22,
   "metadata": {},
   "outputs": [
    {
     "data": {
      "text/html": [
       "<div>\n",
       "<style scoped>\n",
       "    .dataframe tbody tr th:only-of-type {\n",
       "        vertical-align: middle;\n",
       "    }\n",
       "\n",
       "    .dataframe tbody tr th {\n",
       "        vertical-align: top;\n",
       "    }\n",
       "\n",
       "    .dataframe thead th {\n",
       "        text-align: right;\n",
       "    }\n",
       "</style>\n",
       "<table border=\"1\" class=\"dataframe\">\n",
       "  <thead>\n",
       "    <tr style=\"text-align: right;\">\n",
       "      <th></th>\n",
       "      <th>date</th>\n",
       "      <th>description</th>\n",
       "      <th>amount</th>\n",
       "      <th>currency</th>\n",
       "      <th>account_id</th>\n",
       "      <th>account_type</th>\n",
       "      <th>user_id</th>\n",
       "      <th>provider</th>\n",
       "    </tr>\n",
       "  </thead>\n",
       "  <tbody>\n",
       "    <tr>\n",
       "      <th>396</th>\n",
       "      <td>2017-01-02</td>\n",
       "      <td>Non-Sterling transaction fee</td>\n",
       "      <td>0.23</td>\n",
       "      <td>GBP</td>\n",
       "      <td>2886701504</td>\n",
       "      <td>checking</td>\n",
       "      <td>2181840998</td>\n",
       "      <td>bank-19</td>\n",
       "    </tr>\n",
       "    <tr>\n",
       "      <th>424</th>\n",
       "      <td>2017-01-02</td>\n",
       "      <td>Non-Sterling transaction fee</td>\n",
       "      <td>0.23</td>\n",
       "      <td>GBP</td>\n",
       "      <td>2886701504</td>\n",
       "      <td>checking</td>\n",
       "      <td>2181840998</td>\n",
       "      <td>bank-19</td>\n",
       "    </tr>\n",
       "    <tr>\n",
       "      <th>542</th>\n",
       "      <td>2017-01-02</td>\n",
       "      <td>Non-Sterling transaction fee</td>\n",
       "      <td>0.23</td>\n",
       "      <td>GBP</td>\n",
       "      <td>2886701504</td>\n",
       "      <td>checking</td>\n",
       "      <td>2181840998</td>\n",
       "      <td>bank-19</td>\n",
       "    </tr>\n",
       "  </tbody>\n",
       "</table>\n",
       "</div>"
      ],
      "text/plain": [
       "          date                   description  amount currency  account_id  \\\n",
       "396 2017-01-02  Non-Sterling transaction fee    0.23      GBP  2886701504   \n",
       "424 2017-01-02  Non-Sterling transaction fee    0.23      GBP  2886701504   \n",
       "542 2017-01-02  Non-Sterling transaction fee    0.23      GBP  2886701504   \n",
       "\n",
       "    account_type     user_id provider  \n",
       "396     checking  2181840998  bank-19  \n",
       "424     checking  2181840998  bank-19  \n",
       "542     checking  2181840998  bank-19  "
      ]
     },
     "execution_count": 22,
     "metadata": {},
     "output_type": "execute_result"
    }
   ],
   "source": [
    "transactions.loc[[396, 424, 542]]"
   ]
  },
  {
   "cell_type": "code",
   "execution_count": null,
   "metadata": {},
   "outputs": [],
   "source": []
  }
 ],
 "metadata": {
  "kernelspec": {
   "display_name": "Python 3",
   "language": "python",
   "name": "python3"
  },
  "language_info": {
   "codemirror_mode": {
    "name": "ipython",
    "version": 3
   },
   "file_extension": ".py",
   "mimetype": "text/x-python",
   "name": "python",
   "nbconvert_exporter": "python",
   "pygments_lexer": "ipython3",
   "version": "3.6.5"
  }
 },
 "nbformat": 4,
 "nbformat_minor": 2
}
